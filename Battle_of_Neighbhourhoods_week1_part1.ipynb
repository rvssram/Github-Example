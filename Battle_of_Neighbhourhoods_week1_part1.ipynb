{
 "cells": [
  {
   "cell_type": "markdown",
   "metadata": {
    "collapsed": true
   },
   "source": [
    "## Capstone Project - The Battle of the Neighborhoods"
   ]
  },
  {
   "cell_type": "markdown",
   "metadata": {},
   "source": [
    "## Introduction: Business Problem of knowledge of neighborhood for real estate agent"
   ]
  },
  {
   "cell_type": "markdown",
   "metadata": {},
   "source": [
    "Real estate agents compete for the same customers and customers want to find the best home and also\n",
    "best neighborhood for their family. Deep knowledge of area and neighborhood brings advantage in\n",
    "competition. From real estate point of view there is a battle of neighborhoods.\n",
    "\n",
    "Nobody can remember or know all venues in Helsinki Finland area and so cannot promote all venues and\n",
    "categories which can found through Foursquare API. We would like to provide targeted information near\n",
    "properties to sold for real estate agents. We would also cluster and categorize living areas to quickly tell in\n",
    "which category of property belongs and what are the unique characteristics of that area for example good\n",
    "parks and cafeterias. This could make the difference when agents have sales meeting with owners. This\n",
    "information can be even crucial when families deciding where they are going to move and buy new home."
   ]
  }
 ],
 "metadata": {
  "kernelspec": {
   "display_name": "Python 3.6",
   "language": "python",
   "name": "python3"
  },
  "language_info": {
   "codemirror_mode": {
    "name": "ipython",
    "version": 3
   },
   "file_extension": ".py",
   "mimetype": "text/x-python",
   "name": "python",
   "nbconvert_exporter": "python",
   "pygments_lexer": "ipython3",
   "version": "3.6.8"
  }
 },
 "nbformat": 4,
 "nbformat_minor": 1
}
