{
 "cells": [
  {
   "cell_type": "markdown",
   "metadata": {
    "collapsed": true
   },
   "source": [
    "## Capstone Project - The Battle of the Neighborhoods"
   ]
  },
  {
   "cell_type": "markdown",
   "metadata": {},
   "source": [
    "<h2>Table of contents</h2>\n",
    "<ul>\n",
    "• Data<br>\n",
    "• Methodology<br>\n",
    "• Analysis<br>\n",
    "• Results and Discussion<br>\n",
    "• Conclusion<br>\n",
    "</ul>"
   ]
  },
  {
   "cell_type": "markdown",
   "metadata": {},
   "source": [
    "## Data"
   ]
  },
  {
   "cell_type": "markdown",
   "metadata": {},
   "source": [
    "Based on definition of our problem, factors that will help real estate agents are:<br>\n",
    "• All venues of neighborhood<br>\n",
    "• Top venue categories in neighborhood<br>\n",
    "• Overall style for example cafes and parks<br>\n",
    "\n",
    "The following data sources will be needed to generate the required information:<br>\n",
    "• Wikipedia page of Helsinki neighborhood including<br>\n",
    "• All venues or neighborhood area through Foursquare API<br>\n",
    "• Geolocator to get coordinates of neighborhoods<br>\n",
    "\n",
    "We will use the explore function to get the most common venue categories in each neighborhood of Helsinki. We will also cluster neighborhoods to give similarity information to end customer."
   ]
  },
  {
   "cell_type": "markdown",
   "metadata": {},
   "source": [
    "## Methodology\n",
    "We are providing characteristic information about Helsinki neighborhoods combining venue and pricing information and making clusters of neighborhoods.<br>\n",
    "First phase for project was that:<br>\n",
    "• We collected all neighborhoods with sub-neighborhoods.<br>\n",
    "• Added coordinates to all neighborhoods.<br>\n",
    "• Added average m2 pricing to all neighborhoods, when data was available.<br>\n",
    "\n",
    "Second phase<br>\n",
    "• We cluster all neighborhoods and venues correlated.<br>\n",
    "• Then we got that number down to the top 10 unique venues in that neighborhood.<br>\n",
    "• And then down to the top 5 based on the most frequented venues.<br>"
   ]
  },
  {
   "cell_type": "markdown",
   "metadata": {},
   "source": [
    "## Discussion\n",
    "Helsinki City is a relatively small city so for effective data analysis we would need even more venues in Foursquare. Lots of neighborhoods have small amounts of many kind of venues to offer people who want to move there. With adjusting k-means clustering we could have even better results. There is a big difference in average m2 housing price inside Helsinki and it look’s like that relates more to other things than only venues in a neighborhood.<br>\n",
    "\n",
    "## Conclusion\n",
    "This kind of data analysis can be helpful for a real estate agent and provides competitive advantage. Data should be used to build an app and Python code of this analysis should be provided as a microservice."
   ]
  }
 ],
 "metadata": {
  "kernelspec": {
   "display_name": "Python 3.6",
   "language": "python",
   "name": "python3"
  },
  "language_info": {
   "codemirror_mode": {
    "name": "ipython",
    "version": 3
   },
   "file_extension": ".py",
   "mimetype": "text/x-python",
   "name": "python",
   "nbconvert_exporter": "python",
   "pygments_lexer": "ipython3",
   "version": "3.6.8"
  }
 },
 "nbformat": 4,
 "nbformat_minor": 1
}
